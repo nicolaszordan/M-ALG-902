{
 "cells": [
  {
   "cell_type": "markdown",
   "metadata": {},
   "source": [
    "# PART 1 : THE SNOWPLOW PROBLEM"
   ]
  },
  {
   "cell_type": "markdown",
   "metadata": {},
   "source": [
    "## 1.1 Introduction\n",
    "A snowplow must clean the snow in front of n houses, n ∈N. The position of\n",
    "each house is represented by a float number (not necessary positive), hence we as-\n",
    "sume that all houses are on a given one dimensional road.  \n",
    "\n",
    "Initially, the snowplow is in 0. The traveling time of the snowplow is equivalent to\n",
    "the distance that it went through since the beginning of the day. If there are several\n",
    "houses at the same point, it does not take a longer time to clean the snow (the snow\n",
    "is cleaned as soon as the snowplow has passed). However, since the positions of the\n",
    "houses are represented as floats, this won’t happen (with a very high probability).  \n",
    "\n",
    "The snowplow must minimize the average waiting time of the houses, before\n",
    "the snow is cleaned in front of their doorstep. This minimization is from the point\n",
    "of view of the houses (and not from the point of view of the snowplow). The total\n",
    "distance traveled by the snowplow is not relevant itself."
   ]
  },
  {
   "cell_type": "markdown",
   "metadata": {},
   "source": [
    "## 1.2 Exercise\n",
    "1) Propose a n ∈N(it does not need to be large n = 10 is fine) and a configuration\n",
    "of the houses where the optimal order of cleaning is not obtained by either :\n",
    "    - sorting the houses positions and cleaning them in that order.\n",
    "    - going to the closest house at each time step.\n",
    "2) Propose and implement a polynomial-time algorithm (in terms of the number\n",
    "of houses) based on the positions of the houses, in order to clean the snow. If it is\n",
    "not polynomial (if it is exponential for example) we saw in class that it would not\n",
    "be able to be run in a reasonable time."
   ]
  },
  {
   "cell_type": "code",
   "execution_count": 1,
   "metadata": {},
   "outputs": [],
   "source": [
    "import numpy as np\n",
    "\n",
    "# n_houses = 30\n",
    "# scale_houses = 10\n",
    "# house_positions = np.random.normal(0, scale_houses, n_houses).tolist()\n",
    "# house_positions\n",
    "\n",
    "house_positions = [-10, -2, 1, 5, 6, 7, 10]\n",
    "expected_positions = [1, 5, 6, 7, 10, -2, -10]"
   ]
  },
  {
   "cell_type": "code",
   "execution_count": 3,
   "metadata": {},
   "outputs": [
    {
     "data": {
      "image/png": "[encoded data removed]",
      "text/plain": [
       "<Figure size 640x480 with 1 Axes>"
      ]
     },
     "metadata": {},
     "output_type": "display_data"
    }
   ],
   "source": [
    "import matplotlib.pyplot as plt\n",
    "\n",
    "def display_house_distribution(house_positions: list):\n",
    "    # Create the eventplot\n",
    "    plt.eventplot(house_positions)\n",
    "\n",
    "    mean_house = np.mean(house_positions)\n",
    "    median_house = np.median(house_positions)\n",
    "\n",
    "    # Calculating the plot limits to center it in 0\n",
    "    min_house = min(house_positions)\n",
    "    max_house = max(house_positions)\n",
    "    limit = max(abs(min_house), abs(max_house))\n",
    "    limit += limit * (5/100) # Adding 5% so the last house isnt inside the edge of the plot\n",
    "\n",
    "    plt.hlines(1, -limit, limit, colors='black')\n",
    "    plt.xlim(-limit, limit) # Set the x-axis limits\n",
    "    plt.axvline(x=0, color='black') # Add a black line in 0\n",
    "    plt.axvline(x=mean_house, dashes=[2, 4], color='green') # Add a black line in 0\n",
    "    plt.axvline(x=median_house, dashes=[2, 4], color='red') # Add a black line in 0\n",
    "    plt.gca().get_yaxis().set_visible(False)\n",
    "\n",
    "    plt.title(\"Houses Distribution\")\n",
    "\n",
    "    # Show the plot\n",
    "    plt.show()\n",
    "\n",
    "display_house_distribution(house_positions)\n"
   ]
  },
  {
   "cell_type": "code",
   "execution_count": null,
   "metadata": {},
   "outputs": [],
   "source": [
    "def parcours(houses: list) -> list:\n",
    "    return None\n",
    "\n",
    "def minimize_average_waiting_time(house_positions):\n",
    "    house_positions.sort()\n",
    "    total_distance = house_positions[-1]  # Total distance is from 0 to the last house\n",
    "    min_average_waiting_time = float('inf')\n",
    "    optimal_position = 0\n",
    "\n",
    "    for position in house_positions:\n",
    "        cumulative_distance = house_positions.index(position) * position\n",
    "        cumulative_distance += (total_distance - cumulative_distance - position) * position\n",
    "        average_waiting_time = cumulative_distance / len(house_positions)\n",
    "        \n",
    "        if average_waiting_time < min_average_waiting_time:\n",
    "            min_average_waiting_time = average_waiting_time\n",
    "            optimal_position = position\n",
    "\n",
    "    return optimal_position\n",
    "\n",
    "optimal_plow_position = minimize_average_waiting_time(house_positions)\n",
    "print(\"Optimal Snowplow Position:\", optimal_plow_position)\n",
    "\n",
    "def minimize_waiting_time_order(house_positions, snowplow_position):\n",
    "    # Calculate the distances from the snowplow position to each house\n",
    "    distances = [(abs(snowplow_position - house), house) for house in house_positions]\n",
    "    \n",
    "    # Sort the houses based on their distances from the snowplow\n",
    "    sorted_houses = [house for _, house in sorted(distances)]\n",
    "    \n",
    "    return sorted_houses\n",
    "\n",
    "optimal_plow_position = minimize_average_waiting_time(house_positions)\n",
    "optimal_order = minimize_waiting_time_order(house_positions, optimal_plow_position)\n",
    "\n",
    "print(\"Optimal Snowplow Position:\", optimal_plow_position)\n",
    "print(\"Optimal House Order:\", optimal_order)"
   ]
  },
  {
   "cell_type": "code",
   "execution_count": null,
   "metadata": {},
   "outputs": [],
   "source": [
    "def greedy_parcours(house_positions: list) -> list:\n",
    "    cleared_houses = list()\n",
    "    snow_covered_houses = house_positions.copy()\n",
    "    snowplow_position = 0.0\n",
    "    while len(cleared_houses) != len(house_positions): \n",
    "        closest_house = find_closest_house(snow_covered_houses, snowplow_position)\n",
    "        snowplow_position = closest_house\n",
    "        snow_covered_houses.remove(closest_house)\n",
    "        cleared_houses.append(closest_house)\n",
    "    return cleared_houses\n",
    "\n",
    "def find_closest_house(house_positions: list, snowplow_position: float) -> float:\n",
    "    # Calculate the distances from the snowplow position to each house\n",
    "    distances = [(abs(snowplow_position - house), house) for house in house_positions]\n",
    "    \n",
    "    # Sort the houses based on their distances from the snowplow\n",
    "    sorted_houses = [house for _, house in sorted(distances)]\n",
    "    \n",
    "    return sorted_houses[0]\n",
    "\n",
    "greedy_order = greedy_parcours(house_positions)\n",
    "print(\"Greedy house order: \", greedy_order)\n"
   ]
  },
  {
   "cell_type": "markdown",
   "metadata": {},
   "source": [
    "## TODO ADD A WAY TO RENDER AN ANIMATION"
   ]
  },
  {
   "cell_type": "code",
   "execution_count": null,
   "metadata": {},
   "outputs": [],
   "source": [
    "import itertools\n",
    "\n",
    "import matplotlib.pyplot as plt\n",
    "import numpy as np\n",
    "\n",
    "import matplotlib.animation as animation\n",
    "\n",
    "\n",
    "def data_gen():\n",
    "    for cnt in itertools.count():\n",
    "        t = cnt / 10\n",
    "        yield t, np.sin(2*np.pi*t) * np.exp(-t/10.)\n",
    "\n",
    "\n",
    "def init():\n",
    "    ax.set_ylim(-1.1, 1.1)\n",
    "    ax.set_xlim(0, 1)\n",
    "    del xdata[:]\n",
    "    del ydata[:]\n",
    "    line.set_data(xdata, ydata)\n",
    "    return line,\n",
    "\n",
    "fig, ax = plt.subplots()\n",
    "line, = ax.plot([], [], lw=2)\n",
    "ax.grid()\n",
    "xdata, ydata = [], []\n",
    "\n",
    "\n",
    "def run(data):\n",
    "    # update the data\n",
    "    t, y = data\n",
    "    xdata.append(t)\n",
    "    ydata.append(y)\n",
    "    xmin, xmax = ax.get_xlim()\n",
    "\n",
    "    if t >= xmax:\n",
    "        ax.set_xlim(xmin, 2*xmax)\n",
    "        ax.figure.canvas.draw()\n",
    "    line.set_data(xdata, ydata)\n",
    "\n",
    "    return line,\n",
    "\n",
    "# Only save last 100 frames, but run forever\n",
    "ani = animation.FuncAnimation(fig, run, data_gen, interval=100, init_func=init,\n",
    "                              save_count=100)\n",
    "plt.show()"
   ]
  }
 ],
 "metadata": {
  "kernelspec": {
   "display_name": ".venv",
   "language": "python",
   "name": "python3"
  },
  "language_info": {
   "codemirror_mode": {
    "name": "ipython",
    "version": 3
   },
   "file_extension": ".py",
   "mimetype": "text/x-python",
   "name": "python",
   "nbconvert_exporter": "python",
   "pygments_lexer": "ipython3",
   "version": "3.8.10"
  }
 },
 "nbformat": 4,
 "nbformat_minor": 2
}
